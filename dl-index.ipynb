{
 "cells": [
  {
   "cell_type": "markdown",
   "metadata": {},
   "source": [
    "# Deep Learning"
   ]
  },
  {
   "cell_type": "markdown",
   "metadata": {},
   "source": [
    "This page is a collection of sample problems and projects for Deep Learning using Python, Pandas, Matplotlib, Numpy and Scikit learn libraries"
   ]
  },
  {
   "cell_type": "markdown",
   "metadata": {},
   "source": [
    "### 1. Deep Learning Keras(Tensorflow)\n",
    "\n",
    "\n",
    "##### 1.1 Convolutional Neural Network\n",
    "\n",
    "- [1.keras-pctrn](https://nbviewer.jupyter.org/github/datafiction/deeplearning-keras/blob/master/keras-cnn/1.keras-pctrn.ipynb)\n",
    "- [2.keras-ckp&htry](https://nbviewer.jupyter.org/github/datafiction/deeplearning-keras/blob/master/keras-cnn/2.keras-ckp%26htry.ipynb)\n",
    "- [3.keras-tuning](https://nbviewer.jupyter.org/github/datafiction/deeplearning-keras/blob/master/keras-cnn/3.keras-tuning.ipynb)\n",
    "- [4.keras-NMIST](https://nbviewer.jupyter.org/github/datafiction/deeplearning-keras/blob/master/keras-cnn/4.keras-NMIST.ipynb)\n",
    "- [5.keras-image-prep](https://nbviewer.jupyter.org/github/datafiction/deeplearning-keras/blob/master/keras-cnn/5.keras-image-prep.ipynb)\n",
    "- [6.keras-CIFR10](https://nbviewer.jupyter.org/github/datafiction/deeplearning-keras/blob/master/keras-cnn/6.keras-CIFR10.ipynb)\n",
    "- [7.keras-Embd.ipynb](https://nbviewer.jupyter.org/github/datafiction/deeplearning-keras/blob/master/keras-cnn/7.%20keras-Embd.ipynb)\n",
    "\n",
    "##### 1.2 LSTM-RNN\n",
    "\n",
    "- [1.Vanila-LSTM](https://nbviewer.jupyter.org/github/datafiction/deeplearning-keras/blob/master/keras-lstm/1.Vanila-LSTM.ipynb)\n",
    "- [2.Stacked-LSTM](https://nbviewer.jupyter.org/github/datafiction/deeplearning-keras/blob/master/keras-lstm/2.Stacked-LSTM.ipynb)\n",
    "- [3.CNN-LSTM](https://nbviewer.jupyter.org/github/datafiction/deeplearning-keras/blob/master/keras-lstm/3.CNN-LSTM.ipynb)\n",
    "- [4.Encoder-Decoder-LSTM](https://nbviewer.jupyter.org/github/datafiction/deeplearning-keras/blob/master/keras-lstm/4.%20Encoder-Decoder-LSTM.ipynb)\n",
    "- [5.BiDirectional-LSTM](https://nbviewer.jupyter.org/github/datafiction/deeplearning-keras/blob/master/keras-lstm/5.%20BiDirectional-LSTM.ipynb)\n",
    "- [6. Embedding-LSTM](https://nbviewer.jupyter.org/github/datafiction/deeplearning-keras/blob/master/keras-lstm/Embedding-LSTM.ipynb)\n",
    "- [7. Generative-LSTM](https://nbviewer.jupyter.org/github/datafiction/deeplearning-keras/blob/master/keras-lstm/Generative-LSTM.ipynb)\n",
    "\n",
    "\n",
    "------------\n",
    "\n",
    "\n",
    "### 2. DLND Udacity Assignments\n",
    "\n",
    "- [1.Perceptron](https://nbviewer.jupyter.org/github/Vasuji/DLND-perceptron/blob/master/dlnd-your-first-neural-network.ipynb)\n",
    "- [2.CIFAR-10](https://nbviewer.jupyter.org/github/Vasuji/DLND-cifar10/blob/master/dlnd_image_classification.ipynb)\n",
    "- [3. Student Admissions with NN](https://nbviewer.jupyter.org/github/datafiction/deep-learning/blob/master/student-admissions-keras/StudentAdmissionsKeras.ipynb)\n",
    "- [4.Skip-gram word2vec](https://nbviewer.jupyter.org/github/datafiction/deep-learning/blob/master/embeddings/Skip-Grams-Solution.ipynb)\n",
    "- [5. Character Sequence to Sequence](https://nbviewer.jupyter.org/github/datafiction/deep-learning/blob/master/seq2seq/sequence_to_sequence_implementation.ipynb#Character-Sequence-to-Sequence)\n",
    "- [6. Convolutional Autoencoder](https://nbviewer.jupyter.org/github/datafiction/deep-learning/blob/master/autoencoder/Convolutional_Autoencoder_Solution.ipynb)\n",
    "- [7. Transfer Learning](https://nbviewer.jupyter.org/github/datafiction/deep-learning/blob/master/transfer-learning/Transfer_Learning_Solution.ipynb)\n",
    "- [8. Introduction to RNN](https://nbviewer.jupyter.org/github/datafiction/deep-learning/blob/master/intro-to-rnns/Anna_KaRNNa_Solution.ipynb)\n",
    "- [9. Sentiment Anlysis with RNN](https://nbviewer.jupyter.org/github/datafiction/deep-learning/blob/master/sentiment-rnn/Sentiment_RNN_Solution.ipynb)\n",
    "- [10.language Translation](https://nbviewer.jupyter.org/github/Vasuji/DLND-language-translation/blob/master/dlnd_language_translation.ipynb)\n",
    "- [11.TV Script Generation](https://nbviewer.jupyter.org/github/Vasuji/DLND-tv-script-generation/blob/master/dlnd_tv_script_generation.ipynb)\n",
    "- [12.Face Generation](https://nbviewer.jupyter.org/github/Vasuji/DLND-face-generation/blob/master/dlnd_face_generation.ipynb)\n",
    "- [13. Q-learning](https://github.com/Vasuji/dlnd-Q-game)\n",
    "\n",
    "\n",
    "------------\n",
    "\n",
    "\n",
    "### 3. References\n",
    "\n",
    "\n",
    "\n",
    "\n",
    "\n",
    "\n",
    "\n",
    "\n",
    "\n",
    "\n"
   ]
  },
  {
   "cell_type": "markdown",
   "metadata": {},
   "source": [
    "1. [Udacity Deep Learning](https://github.com/udacity/deep-learning)"
   ]
  },
  {
   "cell_type": "code",
   "execution_count": null,
   "metadata": {},
   "outputs": [],
   "source": []
  }
 ],
 "metadata": {
  "kernelspec": {
   "display_name": "Python 3",
   "language": "python",
   "name": "python3"
  },
  "language_info": {
   "codemirror_mode": {
    "name": "ipython",
    "version": 3
   },
   "file_extension": ".py",
   "mimetype": "text/x-python",
   "name": "python",
   "nbconvert_exporter": "python",
   "pygments_lexer": "ipython3",
   "version": "3.7.1"
  }
 },
 "nbformat": 4,
 "nbformat_minor": 2
}
