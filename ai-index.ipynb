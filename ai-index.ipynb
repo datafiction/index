{
 "cells": [
  {
   "cell_type": "markdown",
   "metadata": {},
   "source": [
    "### AI Index"
   ]
  },
  {
   "cell_type": "markdown",
   "metadata": {},
   "source": [
    "----------"
   ]
  },
  {
   "cell_type": "markdown",
   "metadata": {},
   "source": [
    "##### [Sudoku](https://github.com/Vasuji/AIND1P-Sudoku/blob/master/sudoku-practice.ipynb)\n",
    "##### [Isolation](https://github.com/Vasuji/AIND1P-Isolation)\n",
    "##### [Simulated Annealing](https://nbviewer.jupyter.org/github/Vasuji/AIND1E-Simulated_Annealing/blob/master/AIND-Simulated_Annealing.ipynb)\n",
    "##### [Constraint Satisfication](https://nbviewer.jupyter.org/github/Vasuji/AIND1E-Constraint_Satisfaction/blob/master/AIND-Constraint_Satisfaction.ipynb)\n",
    "##### [Sign Language Recognation](https://nbviewer.jupyter.org/github/Vasuji/AIND1P-Recognizer/blob/master/asl_recognizer.ipynb)\n",
    "##### [Planing](https://github.com/Vasuji/AIND1P-Planning)"
   ]
  },
  {
   "cell_type": "markdown",
   "metadata": {},
   "source": [
    "-----------"
   ]
  },
  {
   "cell_type": "markdown",
   "metadata": {},
   "source": [
    "##### [Introduction to RNN](https://nbviewer.jupyter.org/github/Vasuji/AIND2P-rnn/blob/master/RNN_project.ipynb)\n",
    "##### [Dog Identification App](https://nbviewer.jupyter.org/github/Vasuji/AIND2P-dog-project/blob/master/dog_app.ipynb)\n"
   ]
  },
  {
   "cell_type": "markdown",
   "metadata": {},
   "source": [
    "--------"
   ]
  },
  {
   "cell_type": "markdown",
   "metadata": {},
   "source": [
    "##### [BookWorm](https://nbviewer.jupyter.org/github/Vasuji/AIND3E-NLP-Bookworm/blob/master/bookworm.ipynb)\n",
    "##### [NLP-Capstone: Machine Translation](https://nbviewer.jupyter.org/github/Vasuji/AIND3P-nlp-capstone/blob/master/machine_translation.ipynb)"
   ]
  },
  {
   "cell_type": "markdown",
   "metadata": {},
   "source": [
    "-------"
   ]
  },
  {
   "cell_type": "markdown",
   "metadata": {},
   "source": [
    "##### References"
   ]
  },
  {
   "cell_type": "code",
   "execution_count": null,
   "metadata": {},
   "outputs": [],
   "source": []
  }
 ],
 "metadata": {
  "kernelspec": {
   "display_name": "Python 3",
   "language": "python",
   "name": "python3"
  },
  "language_info": {
   "codemirror_mode": {
    "name": "ipython",
    "version": 3
   },
   "file_extension": ".py",
   "mimetype": "text/x-python",
   "name": "python",
   "nbconvert_exporter": "python",
   "pygments_lexer": "ipython3",
   "version": "3.7.1"
  }
 },
 "nbformat": 4,
 "nbformat_minor": 2
}
